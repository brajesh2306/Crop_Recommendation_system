{
  "nbformat": 4,
  "nbformat_minor": 0,
  "metadata": {
    "colab": {
      "provenance": []
    },
    "kernelspec": {
      "name": "python3",
      "display_name": "Python 3"
    },
    "language_info": {
      "name": "python"
    }
  },
  "cells": [
    {
      "cell_type": "code",
      "execution_count": 1,
      "metadata": {
        "id": "12Tbq4Do3r4q"
      },
      "outputs": [],
      "source": [
        "import pickle\n",
        "import numpy as np\n",
        "import pandas as pd"
      ]
    },
    {
      "cell_type": "code",
      "source": [
        "pipe= pickle.load(open('/content/crop_recommendation_model.pkl','rb'))"
      ],
      "metadata": {
        "id": "-qAI0xhc4GSg"
      },
      "execution_count": 3,
      "outputs": []
    },
    {
      "cell_type": "code",
      "source": [
        "import pandas as pd\n",
        "import pickle\n",
        "\n",
        "pipeline = pickle.load(open('/content/crop_recommendation_model.pkl', 'rb'))\n",
        "\n",
        "numeric_features = ['N', 'P', 'K', 'temperature', 'humidity', 'ph', 'rainfall']\n",
        "\n",
        "label_to_crop = {0: 'apple', 1: 'banana', 2: 'blackgram', 3: 'chickpea', 4: 'coconut', 5: 'coffee',\n",
        "                 6: 'cotton', 7: 'grapes', 8: 'jute', 9: 'kidneybeans', 10: 'lentil', 11: 'maize',\n",
        "                 12: 'mango', 13: 'mothbeans', 14: 'mungbean', 15: 'muskmelon', 16: 'orange',\n",
        "                 17: 'papaya', 18: 'pigeonpeas', 19: 'pomegranate', 20: 'rice', 21: 'watermelon'}\n",
        "\n",
        "def predict_from_user_input(model_pipeline):\n",
        "    user_input = {}\n",
        "\n",
        "    for feature in numeric_features:\n",
        "        user_input[feature] = float(input(f\"Enter value for {feature}: \"))\n",
        "\n",
        "    user_input_df = pd.DataFrame(user_input, index=[0])\n",
        "\n",
        "    predicted_label_encoded = model_pipeline.predict(user_input_df)[0]\n",
        "\n",
        "    predicted_crop = label_to_crop[int(predicted_label_encoded)]\n",
        "\n",
        "    return predicted_crop\n",
        "predicted_crop = predict_from_user_input(pipeline)\n",
        "print(f\"You should grow '{predicted_crop}' in your field.\")\n"
      ],
      "metadata": {
        "colab": {
          "base_uri": "https://localhost:8080/"
        },
        "id": "WBO1_FLh4R2i",
        "outputId": "138ba209-efcb-4bd8-9235-13f30e35150e"
      },
      "execution_count": 4,
      "outputs": [
        {
          "output_type": "stream",
          "name": "stdout",
          "text": [
            "Enter value for N: 23\n",
            "Enter value for P: 63\n",
            "Enter value for K: 56\n",
            "Enter value for temperature: 65\n",
            "Enter value for humidity: 32\n",
            "Enter value for ph: 7\n",
            "Enter value for rainfall: 300\n",
            "You should grow 'mango' in your field.\n"
          ]
        }
      ]
    }
  ]
}